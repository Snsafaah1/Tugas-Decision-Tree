{
 "cells": [
  {
   "cell_type": "code",
   "execution_count": 4,
   "id": "c5d02ac3",
   "metadata": {},
   "outputs": [
    {
     "name": "stdout",
     "output_type": "stream",
     "text": [
      "SITI NURHALIZATUS SAFA'AH, BOCIL SOK SOK AN, GAK TAU NGABARI PISAN\n"
     ]
    }
   ],
   "source": [
    "a = \"SITI NURHALIZATUS SAFA'AH\"\n",
    "b = \"BOCIL SOK SOK AN\"\n",
    "c = \"GAK TAU NGABARI PISAN\"\n",
    "\n",
    "print(a + \", \" + b + \", \" + c)"
   ]
  },
  {
   "cell_type": "code",
   "execution_count": null,
   "id": "a30b2832",
   "metadata": {},
   "outputs": [],
   "source": []
  }
 ],
 "metadata": {
  "kernelspec": {
   "display_name": "Python 3 (ipykernel)",
   "language": "python",
   "name": "python3"
  },
  "language_info": {
   "codemirror_mode": {
    "name": "ipython",
    "version": 3
   },
   "file_extension": ".py",
   "mimetype": "text/x-python",
   "name": "python",
   "nbconvert_exporter": "python",
   "pygments_lexer": "ipython3",
   "version": "3.9.7"
  }
 },
 "nbformat": 4,
 "nbformat_minor": 5
}
